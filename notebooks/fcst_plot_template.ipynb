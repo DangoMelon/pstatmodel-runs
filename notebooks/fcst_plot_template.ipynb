{
 "cells": [
  {
   "cell_type": "code",
   "execution_count": null,
   "id": "ad779ab2-9797-4ddc-a155-961a6cffb740",
   "metadata": {
    "tags": []
   },
   "outputs": [],
   "source": [
    "import os\n",
    "\n",
    "import cartopy.crs as ccrs\n",
    "import cartopy.feature as cfeature\n",
    "import matplotlib.colors as colors\n",
    "import matplotlib.pyplot as plt\n",
    "import numpy as np\n",
    "import pandas as pd\n",
    "from cartopy.mpl.ticker import LatitudeFormatter, LongitudeFormatter\n",
    "from dmelon import plotting, utils\n",
    "\n",
    "import xarray as xr"
   ]
  },
  {
   "cell_type": "code",
   "execution_count": null,
   "id": "eef80ca0-bec7-4016-a10a-1c8a25f1b60a",
   "metadata": {
    "tags": [
     "parameters"
    ]
   },
   "outputs": [],
   "source": [
    "settings = None"
   ]
  },
  {
   "cell_type": "code",
   "execution_count": null,
   "id": "5f21ebaf-8ed6-4c14-957d-1613245fceb6",
   "metadata": {
    "tags": []
   },
   "outputs": [],
   "source": [
    "settings = utils.load_json(settings)"
   ]
  },
  {
   "cell_type": "code",
   "execution_count": null,
   "id": "d7080077-a9ec-4c0b-bb60-1375595aa2ed",
   "metadata": {
    "tags": []
   },
   "outputs": [],
   "source": [
    "MONTH = settings[\"MONTH\"]\n",
    "FYEAR = settings[\"FYEAR\"]\n",
    "INIT_MONTH = settings[\"INIT_MONTH\"]\n",
    "DATA_DIR = settings[\"DATA_DIR\"]\n",
    "MONTH_DIR = os.path.join(DATA_DIR, f\"{INIT_MONTH}.{MONTH}\")\n",
    "NC_DIR = os.path.join(DATA_DIR, str(FYEAR), f\"{INIT_MONTH}.{MONTH}\", \"Data\")\n",
    "PLOTS_DIR = os.path.join(MONTH_DIR, \"plots\")\n",
    "\n",
    "utils.check_folder(PLOTS_DIR)"
   ]
  },
  {
   "cell_type": "code",
   "execution_count": null,
   "id": "3193d72e-0dd7-41a8-a81a-03a856514348",
   "metadata": {
    "tags": []
   },
   "outputs": [],
   "source": [
    "fcst_data = xr.open_dataset(os.path.join(NC_DIR, \"fcst_data.nc\")).fcst_data\n",
    "fcst_data = fcst_data.where(fcst_data >= 0, 0)\n",
    "fcst_data"
   ]
  },
  {
   "cell_type": "code",
   "execution_count": null,
   "id": "8f9fde8a-9ee9-4857-aee5-7e43a17c5704",
   "metadata": {
    "tags": []
   },
   "outputs": [],
   "source": [
    "pisco = (\n",
    "    xr.open_dataset(settings[\"PISCO_DATA\"], decode_times=False)\n",
    "    .rename({\"X\": \"lon\", \"Y\": \"lat\", \"T\": \"time\"})\n",
    "    .load()\n",
    ")\n",
    "pisco.time.attrs[\"calendar\"] = \"360_day\"\n",
    "pisco = xr.decode_cf(pisco).Prec\n",
    "pisco[\"time\"] = pd.date_range(\"1981-01\", \"2016-12\", freq=\"MS\") + pd.DateOffset(days=14)\n",
    "pisco = pisco.sel(time=slice(\"1981-10-01\", \"2016-05-01\"))"
   ]
  },
  {
   "cell_type": "code",
   "execution_count": null,
   "id": "a096d853-4f5e-484b-be01-abd598c47c16",
   "metadata": {
    "tags": []
   },
   "outputs": [],
   "source": [
    "pisco_clim = pisco.groupby(\"time.month\").mean(\"time\")\n",
    "pisco_clim"
   ]
  },
  {
   "cell_type": "code",
   "execution_count": null,
   "id": "8b855d53-6428-45e8-89ee-3d461cb07c60",
   "metadata": {
    "tags": []
   },
   "outputs": [],
   "source": [
    "no_neg = fcst_data.groupby(\"time.month\") - pisco_clim"
   ]
  },
  {
   "cell_type": "code",
   "execution_count": null,
   "id": "b28f6ea3-332a-4c01-a597-d6a97a11b559",
   "metadata": {
    "tags": []
   },
   "outputs": [],
   "source": [
    "HQ_BORDER = cfeature.NaturalEarthFeature(\n",
    "    category=\"cultural\",\n",
    "    name=\"admin_0_countries\",\n",
    "    scale=\"50m\",\n",
    "    facecolor=\"white\",\n",
    "    edgecolor=\"grey\",\n",
    ")"
   ]
  },
  {
   "cell_type": "code",
   "execution_count": null,
   "id": "46deea6c-e70d-406f-be62-c9ce0a3d0d19",
   "metadata": {
    "tags": []
   },
   "outputs": [],
   "source": []
  },
  {
   "cell_type": "code",
   "execution_count": null,
   "id": "5beae2f9-3ad9-49de-9383-31761e5be59c",
   "metadata": {
    "tags": []
   },
   "outputs": [],
   "source": [
    "cdict = {\n",
    "    \"red\": ((0.0, 1.0, 1.0), (0.4, 1.0, 1.0), (0.65, 0.0, 0.0), (1.0, 0.0, 0.0)),\n",
    "    \"green\": ((0.0, 0.0, 0.0), (0.25, 1.0, 1.0), (0.7, 1.0, 1.0), (1.0, 0.0, 0.0)),\n",
    "    \"blue\": ((0.0, 0.0, 0.0), (0.7, 0.0, 0.0), (1.0, 1.0, 1.0)),\n",
    "    \"alpha\": (\n",
    "        (0.0, 1.0, 1.0),\n",
    "        (0.5, 0.0, 0.0),\n",
    "        (1.0, 1.0, 1.0),\n",
    "    ),\n",
    "}\n",
    "GnRd = colors.LinearSegmentedColormap(\"GnRd\", cdict)"
   ]
  },
  {
   "cell_type": "code",
   "execution_count": null,
   "id": "ae9db246-6673-4015-8438-a96c0aca9254",
   "metadata": {
    "tags": []
   },
   "outputs": [],
   "source": [
    "year = FYEAR\n",
    "cmap = GnRd\n",
    "\n",
    "boundaries = np.arange(-160, 161, 20)\n",
    "boundaries = boundaries[boundaries != 0]\n",
    "\n",
    "norm = colors.BoundaryNorm(boundaries, cmap.N, extend=\"both\")\n",
    "\n",
    "fcst_sel = no_neg.sel(time=slice(f\"{year-1}-{INIT_MONTH}-01\", None))\n",
    "fig, axs = plt.subplots(\n",
    "    figsize=(6, 4),\n",
    "    dpi=300,\n",
    "    ncols=4,\n",
    "    nrows=2,\n",
    "    sharey=True,\n",
    "    subplot_kw={\"projection\": ccrs.PlateCarree()},\n",
    ")\n",
    "\n",
    "for num, date in enumerate(fcst_sel.time.data[:8]):\n",
    "    # for num, ax in enumerate(axs.ravel()):\n",
    "    ax = axs.ravel().tolist()[num]\n",
    "    p = ax.pcolormesh(\n",
    "        fcst_sel.lon.data,\n",
    "        fcst_sel.lat.data,\n",
    "        fcst_sel.sel(time=date).data,  # * 100 / pisco_sub.isel(time=num),\n",
    "        cmap=cmap,\n",
    "        norm=norm,\n",
    "        transform=ccrs.PlateCarree(),\n",
    "    )\n",
    "    ax.set_title(f\"{pd.to_datetime(date):%Y-%m}\", size=6)\n",
    "    plotting.format_latlon(ax, ccrs.PlateCarree(), lon_step=5, lat_step=5)\n",
    "    ax.add_feature(cfeature.BORDERS)\n",
    "    ax.add_feature(cfeature.COASTLINE)\n",
    "    ax.set_extent((-81.25, -68.05, -18.75, 0.95), crs=ccrs.PlateCarree())\n",
    "    ax.tick_params(axis=\"both\", labelsize=5)\n",
    "    ax.gridlines(linewidth=0.5, linestyle=\"--\", alpha=0.5)\n",
    "fig.colorbar(p, ax=axs.ravel().tolist(), extend=\"both\", ticks=boundaries)\n",
    "fig.suptitle(\"Precipitation Model Forecast Anomaly [mm]\")\n",
    "fig.text(0.4, 0.92, f\"Model Initialized in {MONTH}\", fontdict=dict(fontsize=5))\n",
    "# fig.delaxes(ax=axs.ravel().tolist()[-1])\n",
    "fig.savefig(\n",
    "    os.path.join(PLOTS_DIR, \"fcst_plot_mm.png\"),\n",
    "    bbox_inches=\"tight\",\n",
    ")"
   ]
  },
  {
   "cell_type": "code",
   "execution_count": null,
   "id": "294a4709-c4fa-40ea-9fc2-5edd016afcec",
   "metadata": {
    "tags": []
   },
   "outputs": [],
   "source": [
    "year = FYEAR\n",
    "cmap = GnRd\n",
    "\n",
    "boundaries = np.arange(-100, 101, 10)\n",
    "norm = colors.BoundaryNorm(boundaries, cmap.N, extend=\"both\")\n",
    "\n",
    "fcst_sel = (((fcst_data * 100).groupby(\"time.month\") / pisco_clim) - 100).sel(\n",
    "    time=slice(f\"{year-1}-{INIT_MONTH}-01\", None)\n",
    ")\n",
    "fig, axs = plt.subplots(\n",
    "    figsize=(6, 4),\n",
    "    dpi=300,\n",
    "    ncols=4,\n",
    "    nrows=2,\n",
    "    sharey=True,\n",
    "    subplot_kw={\"projection\": ccrs.PlateCarree()},\n",
    ")\n",
    "\n",
    "for num, date in enumerate(fcst_sel.time.data[:8]):\n",
    "    # for num, ax in enumerate(axs.ravel()):\n",
    "    ax = axs.ravel().tolist()[num]\n",
    "    p = ax.pcolormesh(\n",
    "        fcst_sel.lon.data,\n",
    "        fcst_sel.lat.data,\n",
    "        fcst_sel.sel(time=date).data,  # * 100 / pisco_sub.isel(time=num),\n",
    "        cmap=cmap,\n",
    "        norm=norm,\n",
    "        transform=ccrs.PlateCarree(),\n",
    "    )\n",
    "    ax.set_title(f\"{pd.to_datetime(date):%Y-%m}\", size=6)\n",
    "    plotting.format_latlon(ax, ccrs.PlateCarree(), lon_step=5, lat_step=5)\n",
    "    ax.add_feature(cfeature.BORDERS)\n",
    "    ax.add_feature(cfeature.COASTLINE)\n",
    "    ax.set_extent((-81.25, -68.05, -18.75, 0.95), crs=ccrs.PlateCarree())\n",
    "    ax.tick_params(axis=\"both\", labelsize=5)\n",
    "    ax.gridlines(linewidth=0.5, linestyle=\"--\", alpha=0.5)\n",
    "fig.colorbar(p, ax=axs.ravel().tolist(), extend=\"both\", ticks=boundaries[::2])\n",
    "fig.suptitle(\"Precipitation Model Forecast Anomaly [%]\")\n",
    "fig.text(0.4, 0.92, f\"Model Initialized in {MONTH}\", fontdict=dict(fontsize=5))\n",
    "# fig.delaxes(ax=axs.ravel().tolist()[-1])\n",
    "fig.savefig(\n",
    "    os.path.join(PLOTS_DIR, \"fcst_plot_perc.png\"),\n",
    "    bbox_inches=\"tight\",\n",
    ")"
   ]
  }
 ],
 "metadata": {
  "kernelspec": {
   "display_name": "Python 3.10.5 ('pstatmodel')",
   "language": "python",
   "name": "python3"
  },
  "language_info": {
   "codemirror_mode": {
    "name": "ipython",
    "version": 3
   },
   "file_extension": ".py",
   "mimetype": "text/x-python",
   "name": "python",
   "nbconvert_exporter": "python",
   "pygments_lexer": "ipython3",
   "version": "3.10.5"
  },
  "vscode": {
   "interpreter": {
    "hash": "0458db3ac62238a9447e5cdedd5d5ca806455c7e07c58493350bdf1ce1989d06"
   }
  },
  "widgets": {
   "application/vnd.jupyter.widget-state+json": {
    "state": {},
    "version_major": 2,
    "version_minor": 0
   }
  }
 },
 "nbformat": 4,
 "nbformat_minor": 5
}
