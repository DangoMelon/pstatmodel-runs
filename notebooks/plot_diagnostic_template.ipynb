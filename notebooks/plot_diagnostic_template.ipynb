{
 "cells": [
  {
   "cell_type": "code",
   "execution_count": null,
   "metadata": {
    "tags": []
   },
   "outputs": [],
   "source": [
    "import os\n",
    "import pickle\n",
    "\n",
    "import numpy as np\n",
    "import pandas as pd\n",
    "import xarray as xr\n",
    "from dmelon import utils"
   ]
  },
  {
   "cell_type": "code",
   "execution_count": null,
   "metadata": {
    "tags": [
     "parameters"
    ]
   },
   "outputs": [],
   "source": [
    "settings = None"
   ]
  },
  {
   "cell_type": "code",
   "execution_count": null,
   "metadata": {
    "tags": []
   },
   "outputs": [],
   "source": [
    "settings = utils.load_json(settings)"
   ]
  },
  {
   "cell_type": "code",
   "execution_count": null,
   "metadata": {
    "tags": []
   },
   "outputs": [],
   "source": [
    "MONTH = settings[\"MONTH\"]\n",
    "DATA_DIR = settings[\"DATA_DIR\"]\n",
    "MONTH_DIR = os.path.join(DATA_DIR, f\"{settings['INIT_MONTH']}.{MONTH}\")\n",
    "TESTS_DIR = os.path.join(MONTH_DIR, \"tests\")\n",
    "PLOTS_DIR = os.path.join(MONTH_DIR, \"plots\")"
   ]
  },
  {
   "cell_type": "code",
   "execution_count": null,
   "metadata": {},
   "outputs": [],
   "source": [
    "MONTHS_ORDER = [10, 11, 12, 1, 2, 3, 4]"
   ]
  },
  {
   "cell_type": "code",
   "execution_count": null,
   "metadata": {
    "tags": []
   },
   "outputs": [],
   "source": [
    "pisco = xr.open_dataset(settings[\"PISCO_DATA\"], decode_times=False).rename(\n",
    "    {\"X\": \"lon\", \"Y\": \"lat\", \"T\": \"time\"}\n",
    ")\n",
    "pisco.time.attrs[\"calendar\"] = \"360_day\"\n",
    "pisco = xr.decode_cf(pisco).Prec\n",
    "pisco[\"time\"] = pd.date_range(\"1981-01\", \"2016-12\", freq=\"MS\") + pd.DateOffset(days=14)\n",
    "pisco = pisco.sel(time=slice(\"1981-10-01\", \"2016-05-01\"))\n",
    "pisco"
   ]
  },
  {
   "cell_type": "code",
   "execution_count": null,
   "metadata": {
    "tags": []
   },
   "outputs": [],
   "source": [
    "pred_data = xr.open_dataset(os.path.join(TESTS_DIR, \"pred_data.nc\")).pred_data\n",
    "\n",
    "metric_data = xr.open_dataset(os.path.join(TESTS_DIR, \"metric_data.nc\")).metric_data\n",
    "\n",
    "metric2_data = xr.open_dataset(os.path.join(TESTS_DIR, \"metric2_data.nc\")).metric2_data\n",
    "\n",
    "nvar_data = xr.open_dataset(os.path.join(TESTS_DIR, \"nvar_data.nc\")).nvar_data\n",
    "\n",
    "thresh_data = xr.open_dataset(os.path.join(TESTS_DIR, \"thresh_data.nc\")).thresh_data\n",
    "\n",
    "with open(os.path.join(TESTS_DIR, \"model_data.pickle\"), \"rb\") as handle:\n",
    "    model_data = pickle.load(handle)"
   ]
  },
  {
   "cell_type": "code",
   "execution_count": null,
   "metadata": {
    "tags": []
   },
   "outputs": [],
   "source": [
    "no_neg = pred_data.where(pred_data >= 0)"
   ]
  },
  {
   "cell_type": "code",
   "execution_count": null,
   "metadata": {
    "tags": []
   },
   "outputs": [],
   "source": [
    "import cmocean as cmo\n",
    "import matplotlib.pyplot as plt\n",
    "from dmelon import plotting\n",
    "\n",
    "import cartopy.crs as ccrs\n",
    "import cartopy.feature as cfeature\n",
    "\n",
    "HQ_BORDER = cfeature.NaturalEarthFeature(\n",
    "    category=\"cultural\",\n",
    "    name=\"admin_0_countries\",\n",
    "    scale=\"50m\",\n",
    "    facecolor=\"white\",\n",
    "    edgecolor=\"grey\",\n",
    ")"
   ]
  },
  {
   "cell_type": "code",
   "execution_count": null,
   "metadata": {
    "tags": []
   },
   "outputs": [],
   "source": [
    "bias = no_neg.sel(time=slice(\"2015-05-01\", \"2016-05-01\")) - pisco\n",
    "\n",
    "fig, axs = plt.subplots(\n",
    "    figsize=(6, 4),\n",
    "    dpi=300,\n",
    "    ncols=4,\n",
    "    nrows=2,\n",
    "    sharey=True,\n",
    "    subplot_kw={\"projection\": ccrs.PlateCarree()},\n",
    ")\n",
    "\n",
    "for num, date in enumerate(bias.time.data):\n",
    "    ax = axs.ravel().tolist()[num]\n",
    "    p = ax.pcolormesh(\n",
    "        bias.lon.data,\n",
    "        bias.lat.data,\n",
    "        bias.sel(time=date).data,\n",
    "        cmap=cmo.cm.balance,\n",
    "        transform=ccrs.PlateCarree(),\n",
    "        vmax=150,\n",
    "        vmin=-150,\n",
    "    )\n",
    "    ax.set_title(f\"{pd.to_datetime(date):%Y-%m}\", size=6)\n",
    "    plotting.format_latlon(ax, ccrs.PlateCarree(), lon_step=5, lat_step=5)\n",
    "    ax.add_feature(cfeature.BORDERS)\n",
    "    ax.add_feature(cfeature.COASTLINE)\n",
    "    ax.set_extent((-81.25, -68.05, -18.75, 0.95), crs=ccrs.PlateCarree())\n",
    "    ax.tick_params(axis=\"both\", labelsize=5)\n",
    "    ax.gridlines(linewidth=0.5, linestyle=\"--\", alpha=0.5)\n",
    "fig.colorbar(p, ax=axs.ravel().tolist(), extend=\"both\")\n",
    "fig.suptitle(f\"Diferencia (Modelo Estadistico[{MONTH}] - PISCOPrecv2p1) [mm]\")\n",
    "fig.delaxes(ax=axs.ravel().tolist()[-1])\n",
    "fig.savefig(\n",
    "    os.path.join(PLOTS_DIR, f\"model_no2015.2016.{MONTH.lower()}-pisco_mm.png\"),\n",
    "    bbox_inches=\"tight\",\n",
    ")"
   ]
  },
  {
   "cell_type": "code",
   "execution_count": null,
   "metadata": {
    "tags": []
   },
   "outputs": [],
   "source": [
    "bias = (no_neg.sel(time=slice(\"2015-05-01\", \"2016-05-01\")) * 100 / pisco) - 100\n",
    "\n",
    "fig, axs = plt.subplots(\n",
    "    figsize=(6, 4),\n",
    "    dpi=300,\n",
    "    ncols=4,\n",
    "    nrows=2,\n",
    "    sharey=True,\n",
    "    subplot_kw={\"projection\": ccrs.PlateCarree()},\n",
    ")\n",
    "\n",
    "for num, date in enumerate(bias.time.data):\n",
    "    ax = axs.ravel().tolist()[num]\n",
    "    p = ax.pcolormesh(\n",
    "        bias.lon.data,\n",
    "        bias.lat.data,\n",
    "        bias.sel(time=date).data,\n",
    "        cmap=cmo.cm.balance,\n",
    "        transform=ccrs.PlateCarree(),\n",
    "        vmax=100,\n",
    "        vmin=-100,\n",
    "    )\n",
    "    ax.set_title(f\"{pd.to_datetime(date):%Y-%m}\", size=6)\n",
    "    plotting.format_latlon(ax, ccrs.PlateCarree(), lon_step=5, lat_step=5)\n",
    "    ax.add_feature(cfeature.BORDERS)\n",
    "    ax.add_feature(cfeature.COASTLINE)\n",
    "    ax.set_extent((-81.25, -68.05, -18.75, 0.95), crs=ccrs.PlateCarree())\n",
    "    ax.tick_params(axis=\"both\", labelsize=5)\n",
    "    ax.gridlines(linewidth=0.5, linestyle=\"--\", alpha=0.5)\n",
    "fig.colorbar(p, ax=axs.ravel().tolist(), extend=\"both\")\n",
    "fig.suptitle(f\"Modelo Estadistico[{MONTH}] / PISCOPrecv2p1 [%]\")\n",
    "fig.delaxes(ax=axs.ravel().tolist()[-1])\n",
    "fig.savefig(\n",
    "    os.path.join(PLOTS_DIR, f\"model_no2015.2016.{MONTH.lower()}-pisco_perc.png\"),\n",
    "    bbox_inches=\"tight\",\n",
    ")"
   ]
  }
 ],
 "metadata": {
  "kernelspec": {
   "display_name": "Python 3 (ipykernel)",
   "language": "python",
   "name": "python3"
  },
  "language_info": {
   "codemirror_mode": {
    "name": "ipython",
    "version": 3
   },
   "file_extension": ".py",
   "mimetype": "text/x-python",
   "name": "python",
   "nbconvert_exporter": "python",
   "pygments_lexer": "ipython3",
   "version": "3.9.6"
  },
  "widgets": {
   "application/vnd.jupyter.widget-state+json": {
    "state": {},
    "version_major": 2,
    "version_minor": 0
   }
  }
 },
 "nbformat": 4,
 "nbformat_minor": 4
}
