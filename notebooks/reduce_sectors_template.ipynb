{
 "cells": [
  {
   "cell_type": "code",
   "execution_count": null,
   "metadata": {},
   "outputs": [],
   "source": [
    "import math\n",
    "import os\n",
    "\n",
    "import geopandas as gpd\n",
    "import pandas as pd\n",
    "import salem\n",
    "from dmelon import utils\n",
    "\n",
    "import xarray as xr"
   ]
  },
  {
   "cell_type": "code",
   "execution_count": null,
   "metadata": {
    "tags": [
     "parameters"
    ]
   },
   "outputs": [],
   "source": [
    "settings = None"
   ]
  },
  {
   "cell_type": "code",
   "execution_count": null,
   "metadata": {
    "tags": []
   },
   "outputs": [],
   "source": [
    "settings = utils.load_json(settings)"
   ]
  },
  {
   "cell_type": "code",
   "execution_count": null,
   "metadata": {
    "tags": []
   },
   "outputs": [],
   "source": [
    "MONTH = settings[\"MONTH\"]\n",
    "FYEAR = settings[\"FYEAR\"]\n",
    "INIT_MONTH = settings[\"INIT_MONTH\"]\n",
    "DATA_DIR = settings[\"DATA_DIR\"]\n",
    "MONTH_DIR = os.path.join(DATA_DIR, f\"{INIT_MONTH}.{MONTH}\")\n",
    "NC_DIR = os.path.join(DATA_DIR, str(FYEAR), f\"{INIT_MONTH}.{MONTH}\", \"Data\")\n",
    "OUT_DIR = os.path.join(DATA_DIR, str(FYEAR), f\"{MONTH}_val_book.xlsx\")"
   ]
  },
  {
   "cell_type": "code",
   "execution_count": null,
   "metadata": {},
   "outputs": [],
   "source": [
    "senamhi_sectors = salem.read_shapefile(\n",
    "    \"/data/users/grivera/Shapes/SENAMHI_REGIONS/sectores_climaticos.shp\"\n",
    ")\n",
    "senamhi_sectors"
   ]
  },
  {
   "cell_type": "code",
   "execution_count": null,
   "metadata": {},
   "outputs": [],
   "source": [
    "pisco = (\n",
    "    xr.open_dataset(f\"{settings['PISCO_DATA'][:-3]}-unstable.nc\", decode_times=False)\n",
    "    .rename({\"X\": \"lon\", \"Y\": \"lat\", \"T\": \"time\"})\n",
    "    .load()\n",
    ")\n",
    "pisco.time.attrs[\"calendar\"] = \"360_day\"\n",
    "pisco = xr.decode_cf(pisco).Prec.convert_calendar(\"standard\", align_on=\"year\")\n",
    "pisco"
   ]
  },
  {
   "cell_type": "code",
   "execution_count": null,
   "metadata": {},
   "outputs": [],
   "source": [
    "pisco_clim = (\n",
    "    pisco.sel(time=slice(\"1981-10-01\", \"2016-10-01\")).groupby(\"time.month\").mean(\"time\")\n",
    ")\n",
    "pisco_clim"
   ]
  },
  {
   "cell_type": "code",
   "execution_count": null,
   "metadata": {},
   "outputs": [],
   "source": [
    "fcst_data = xr.open_dataset(os.path.join(NC_DIR, \"fcst_data.nc\")).fcst_data\n",
    "fcst_data"
   ]
  },
  {
   "cell_type": "code",
   "execution_count": null,
   "metadata": {},
   "outputs": [],
   "source": [
    "def reduce_data_salem(data: xr.DataArray, shape: gpd.GeoDataFrame) -> xr.DataArray:\n",
    "    reduced = data.salem.roi(shape=shape).mean(dim=[\"lat\", \"lon\"])\n",
    "    reduced = reduced.where(reduced > 0, 0)\n",
    "    return reduced\n",
    "\n",
    "\n",
    "fcst_sectors = []\n",
    "clim_sectors = []\n",
    "pisco_sectors = []\n",
    "for sector_name in senamhi_sectors[\"sector\"]:\n",
    "    print(f\"{sector_name=}\")\n",
    "    _sector = senamhi_sectors.query(\"sector == @sector_name\")\n",
    "    _reduced_fcst = reduce_data_salem(fcst_data, _sector)\n",
    "    _reduced_fcst.name = sector_name\n",
    "\n",
    "    _reduced_obs = reduce_data_salem(pisco, _sector)\n",
    "    _reduced_obs.name = sector_name\n",
    "\n",
    "    _reduced_clim = reduce_data_salem(pisco_clim, _sector)\n",
    "    _reduced_clim.name = sector_name\n",
    "\n",
    "    fcst_sectors.append(_reduced_fcst)\n",
    "    clim_sectors.append(_reduced_clim)\n",
    "    pisco_sectors.append(_reduced_obs)\n",
    "\n",
    "fcst_sectors = xr.combine_by_coords(fcst_sectors)\n",
    "clim_sectors = xr.combine_by_coords(clim_sectors)\n",
    "obs_sectors = xr.combine_by_coords(pisco_sectors)"
   ]
  },
  {
   "cell_type": "code",
   "execution_count": null,
   "metadata": {},
   "outputs": [],
   "source": [
    "years = range(2016, 2022)\n",
    "\n",
    "_table_container = {}\n",
    "\n",
    "for var in fcst_sectors.variables:\n",
    "    if var == \"time\":\n",
    "        continue\n",
    "    print(f\"Entering variable {var=}\")\n",
    "    _df_fcst = fcst_sectors[var].sel(time=slice(\"2016\", None)).to_dataframe()\n",
    "    _df_clim = (\n",
    "        clim_sectors[var]\n",
    "        .roll(month=3, roll_coords=True)\n",
    "        .to_dataframe()\n",
    "        .rename(columns={var: f\"{var}_clim\"})\n",
    "    )\n",
    "    _df_obs = obs_sectors[var].sel(time=slice(\"2016\", None)).to_dataframe()\n",
    "\n",
    "    d = []\n",
    "\n",
    "    for year in years:\n",
    "        query = f\"(time>='{year}-10-01') & (time<='{year+1}-09-30')\"\n",
    "        _fcts_obs = pd.concat(\n",
    "            [\n",
    "                _df_fcst.query(query)\n",
    "                .rename(columns={var: f\"{var}_fcst\"})\n",
    "                .reset_index(drop=True),\n",
    "                _df_obs.query(query)\n",
    "                .rename(columns={var: f\"{var}_obs\"})\n",
    "                .reset_index(drop=True),\n",
    "            ],\n",
    "            axis=1,\n",
    "        )\n",
    "        _fcts_obs[\"month\"] = [\n",
    "            f\"{_m:%^b}\" for _m in pd.date_range(\"2022-10-01\", periods=12, freq=\"M\")\n",
    "        ]\n",
    "        _fcts_obs.set_index(\"month\", inplace=True)\n",
    "        _fcts_obs.columns = pd.MultiIndex.from_product([[year], _fcts_obs.columns])\n",
    "        d.append(_fcts_obs)\n",
    "\n",
    "    _df_clim.index = _fcts_obs.index\n",
    "    d = pd.concat(d, axis=1)\n",
    "\n",
    "    _table_container[var] = pd.concat(\n",
    "        [d, pd.concat({\"CLIM\": _df_clim}, axis=1)], axis=1\n",
    "    )"
   ]
  },
  {
   "cell_type": "code",
   "execution_count": null,
   "metadata": {},
   "outputs": [],
   "source": [
    "with pd.ExcelWriter(OUT_DIR) as writer:\n",
    "    for k, v in _table_container.items():\n",
    "        v.round(3).to_excel(writer, sheet_name=k)"
   ]
  }
 ],
 "metadata": {
  "kernelspec": {
   "display_name": "Python 3 (ipykernel)",
   "language": "python",
   "name": "python3"
  },
  "language_info": {
   "codemirror_mode": {
    "name": "ipython",
    "version": 3
   },
   "file_extension": ".py",
   "mimetype": "text/x-python",
   "name": "python",
   "nbconvert_exporter": "python",
   "pygments_lexer": "ipython3",
   "version": "3.10.5"
  },
  "vscode": {
   "interpreter": {
    "hash": "0458db3ac62238a9447e5cdedd5d5ca806455c7e07c58493350bdf1ce1989d06"
   }
  }
 },
 "nbformat": 4,
 "nbformat_minor": 4
}
